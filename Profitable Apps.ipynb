{
 "cells": [
  {
   "cell_type": "markdown",
   "metadata": {},
   "source": [
    "# Profitable App Analysis for Google Play Markets and App Store\n",
    "\n",
    "The aim of this analysis is to find out what apps are likely to attract more users and hence generate more revenue through in-app ads. Assume we are working as a data analyst for a company that only creates free mobile apps on Google Play and App store. By providing this analysis to our developer team, they will be able to make decisions by considering the types of apps that are most successful in ad revenue.\n",
    "\n",
    "# Exploration\n",
    "\n",
    "There are a vast number of apps on each store (over 4 million), so we will take a sample from this data. We will use a data set containg data about approximately 10,000 Android apps from Google Play, collected in 2018. Also, we will use a data set containing 7,000 iOS apps from the App Store, collected in 2017.\n",
    "\n",
    "First, we have to open the data and adjust it for our needs.\n"
   ]
  },
  {
   "cell_type": "code",
   "execution_count": 15,
   "metadata": {
    "collapsed": false
   },
   "outputs": [
    {
     "name": "stdout",
     "output_type": "stream",
     "text": [
      "[['id', 'track_name', 'size_bytes', 'currency', 'price', 'rating_count_tot', 'rating_count_ver', 'user_rating', 'user_rating_ver', 'ver', 'cont_rating', 'prime_genre', 'sup_devices.num', 'ipadSc_urls.num', 'lang.num', 'vpp_lic'], ['284882215', 'Facebook', '389879808', 'USD', '0.0', '2974676', '212', '3.5', '3.5', '95.0', '4+', 'Social Networking', '37', '1', '29', '1'], ['389801252', 'Instagram', '113954816', 'USD', '0.0', '2161558', '1289', '4.5', '4.0', '10.23', '12+', 'Photo & Video', '37', '0', '29', '1'], ['529479190', 'Clash of Clans', '116476928', 'USD', '0.0', '2130805', '579', '4.5', '4.5', '9.24.12', '9+', 'Games', '38', '5', '18', '1']]\n",
      "[['App', 'Category', 'Rating', 'Reviews', 'Size', 'Installs', 'Type', 'Price', 'Content Rating', 'Genres', 'Last Updated', 'Current Ver', 'Android Ver'], ['Photo Editor & Candy Camera & Grid & ScrapBook', 'ART_AND_DESIGN', '4.1', '159', '19M', '10,000+', 'Free', '0', 'Everyone', 'Art & Design', 'January 7, 2018', '1.0.0', '4.0.3 and up'], ['Coloring book moana', 'ART_AND_DESIGN', '3.9', '967', '14M', '500,000+', 'Free', '0', 'Everyone', 'Art & Design;Pretend Play', 'January 15, 2018', '2.0.0', '4.0.3 and up'], ['U Launcher Lite – FREE Live Cool Themes, Hide Apps', 'ART_AND_DESIGN', '4.7', '87510', '8.7M', '5,000,000+', 'Free', '0', 'Everyone', 'Art & Design', 'August 1, 2018', '1.2.4', '4.0.3 and up']]\n"
     ]
    }
   ],
   "source": [
    "from csv import reader\n",
    "def open_dataset(file_name):\n",
    "    \n",
    "    opened_file = open(file_name)\n",
    "    read_file = reader(opened_file)\n",
    "    data = list(read_file)\n",
    "    \n",
    "    return data\n",
    "\n",
    "\n",
    "apple_data=open_dataset('AppleStore.csv')\n",
    "print(apple_data[:4])\n",
    "\n",
    "google_data=open_dataset('googleplaystore.csv')\n",
    "print(google_data[:4])"
   ]
  },
  {
   "cell_type": "markdown",
   "metadata": {},
   "source": [
    "By printing out some of the data, we can see its data structure. Evidently, it is quite difficult to read. We will create a function that allows us to read the data more easily and find out the number of columns and rows there are.\n",
    "\n"
   ]
  },
  {
   "cell_type": "code",
   "execution_count": 16,
   "metadata": {
    "collapsed": false
   },
   "outputs": [
    {
     "name": "stdout",
     "output_type": "stream",
     "text": [
      "['id', 'track_name', 'size_bytes', 'currency', 'price', 'rating_count_tot', 'rating_count_ver', 'user_rating', 'user_rating_ver', 'ver', 'cont_rating', 'prime_genre', 'sup_devices.num', 'ipadSc_urls.num', 'lang.num', 'vpp_lic']\n",
      "\n",
      "\n",
      "['284882215', 'Facebook', '389879808', 'USD', '0.0', '2974676', '212', '3.5', '3.5', '95.0', '4+', 'Social Networking', '37', '1', '29', '1']\n",
      "\n",
      "\n",
      "['389801252', 'Instagram', '113954816', 'USD', '0.0', '2161558', '1289', '4.5', '4.0', '10.23', '12+', 'Photo & Video', '37', '0', '29', '1']\n",
      "\n",
      "\n",
      "['529479190', 'Clash of Clans', '116476928', 'USD', '0.0', '2130805', '579', '4.5', '4.5', '9.24.12', '9+', 'Games', '38', '5', '18', '1']\n",
      "\n",
      "\n",
      "['App', 'Category', 'Rating', 'Reviews', 'Size', 'Installs', 'Type', 'Price', 'Content Rating', 'Genres', 'Last Updated', 'Current Ver', 'Android Ver']\n",
      "\n",
      "\n",
      "['Photo Editor & Candy Camera & Grid & ScrapBook', 'ART_AND_DESIGN', '4.1', '159', '19M', '10,000+', 'Free', '0', 'Everyone', 'Art & Design', 'January 7, 2018', '1.0.0', '4.0.3 and up']\n",
      "\n",
      "\n",
      "['Coloring book moana', 'ART_AND_DESIGN', '3.9', '967', '14M', '500,000+', 'Free', '0', 'Everyone', 'Art & Design;Pretend Play', 'January 15, 2018', '2.0.0', '4.0.3 and up']\n",
      "\n",
      "\n",
      "['U Launcher Lite – FREE Live Cool Themes, Hide Apps', 'ART_AND_DESIGN', '4.7', '87510', '8.7M', '5,000,000+', 'Free', '0', 'Everyone', 'Art & Design', 'August 1, 2018', '1.2.4', '4.0.3 and up']\n",
      "\n",
      "\n",
      "7197\n",
      "10841\n"
     ]
    }
   ],
   "source": [
    "def exdata(data_set):\n",
    "    for row in data_set:\n",
    "        print(row)\n",
    "        print('\\n')\n",
    "\n",
    "exdata(apple_data[:4])\n",
    "exdata(google_data[:4])\n",
    "\n",
    "print(len(apple_data[1:]))\n",
    "print(len(google_data[1:]))"
   ]
  },
  {
   "cell_type": "markdown",
   "metadata": {},
   "source": [
    "The Apple Store data has 16 columns and the Google Play data has 13 columns. Only some of these columns are useful for intrepreting how attractive the app is to users. \n",
    "\n",
    "The columns that are most relevant to our analysis from the Apple Store data are: 'track_name', 'currency', 'price', 'rating_count_tot', 'rating_count_ver', and 'prime_genre'.\n",
    "\n",
    "For the Google Play data, they are: 'App', 'Category', 'Reviews', 'Installs', 'Type', 'Price', and 'Genres'.\n",
    "\n",
    "# Data Cleaning\n",
    "\n",
    "Before beginning our analysis, we need to make sure the data we analyse is accurate otherwise our analysis could end up being wrong. We have 7197 Apple Store apps and 10841 Google Play apps.\n",
    "\n",
    "Since our developers build apps towards an English-speaking audience, we have to remove non-English apps. We also need to remove apps that are not free.\n"
   ]
  },
  {
   "cell_type": "code",
   "execution_count": 17,
   "metadata": {
    "collapsed": false
   },
   "outputs": [
    {
     "name": "stdout",
     "output_type": "stream",
     "text": [
      "你我贷理财-P2P理财管家\n"
     ]
    }
   ],
   "source": [
    "print(apple_data[6748][1])#6748"
   ]
  },
  {
   "cell_type": "markdown",
   "metadata": {
    "collapsed": true
   },
   "source": [
    "This app has chinese letters in its name. To remove apps that have non-English letters, we will take advantage of the ASCII standard which has a corresponding number between 0 and 127 for each character. However, some english apps include emojis in their app name and these emojis fall outside the ASCII range. In order to tackle this problem, we will allow up to 3 characters outside the ASCII range in the name, to be included in our new data set. "
   ]
  },
  {
   "cell_type": "code",
   "execution_count": 18,
   "metadata": {
    "collapsed": false
   },
   "outputs": [
    {
     "name": "stdout",
     "output_type": "stream",
     "text": [
      "False\n",
      "True\n"
     ]
    }
   ],
   "source": [
    "def english(name):\n",
    "    not_ascii=0\n",
    "    for character in name:\n",
    "        if ord(character)>127:\n",
    "            not_ascii+=1\n",
    "    if not_ascii>3:\n",
    "        return False\n",
    "    else:\n",
    "        return True\n",
    "    \n",
    "print(english(apple_data[6748][1]))\n",
    "print(english(apple_data[1][1]))"
   ]
  },
  {
   "cell_type": "markdown",
   "metadata": {},
   "source": [
    "Here, we have created a function that returns false if the number of characters outside the ASCII range is greater than 3. It may be the case that non-English apps still pass through our filter and that English apps may not pass through, however there will be very cases where this will happen. Next, we will apply this function to our data sets.    "
   ]
  },
  {
   "cell_type": "code",
   "execution_count": 19,
   "metadata": {
    "collapsed": false
   },
   "outputs": [
    {
     "name": "stdout",
     "output_type": "stream",
     "text": [
      "6183\n",
      "10796\n"
     ]
    }
   ],
   "source": [
    "google_english = []\n",
    "apple_english = []\n",
    "\n",
    "for row in google_data:\n",
    "    name = row[0]\n",
    "    if english(name):\n",
    "        google_english.append(row)\n",
    "        \n",
    "for row in apple_data:\n",
    "    name = row[1]\n",
    "    if english(name):\n",
    "        apple_english.append(row)\n",
    "        \n",
    "print(len(apple_english[1:]))\n",
    "print(len(google_english[1:]))"
   ]
  },
  {
   "cell_type": "markdown",
   "metadata": {},
   "source": [
    "We see that some apps have now been removed, by looking at the number of rows in each data set. Another issue that arises is that some apps are repeated.\n"
   ]
  },
  {
   "cell_type": "code",
   "execution_count": 20,
   "metadata": {
    "collapsed": false
   },
   "outputs": [
    {
     "name": "stdout",
     "output_type": "stream",
     "text": [
      "1181\n"
     ]
    }
   ],
   "source": [
    "repeated=[]\n",
    "unique=[]\n",
    "for row in google_english:\n",
    "    if row[0] in unique:\n",
    "        repeated.append(row[0])\n",
    "    else:\n",
    "        unique.append(row[0])\n",
    "    \n",
    "print(len(repeated))\n"
   ]
  },
  {
   "cell_type": "markdown",
   "metadata": {},
   "source": [
    "1181 apps in the Google Play are repeated. "
   ]
  },
  {
   "cell_type": "code",
   "execution_count": 21,
   "metadata": {
    "collapsed": false
   },
   "outputs": [
    {
     "name": "stdout",
     "output_type": "stream",
     "text": [
      "['Facebook', 'SOCIAL', '4.1', '78158306', 'Varies with device', '1,000,000,000+', 'Free', '0', 'Teen', 'Social', 'August 3, 2018', 'Varies with device', 'Varies with device']\n",
      "['Facebook', 'SOCIAL', '4.1', '78128208', 'Varies with device', '1,000,000,000+', 'Free', '0', 'Teen', 'Social', 'August 3, 2018', 'Varies with device', 'Varies with device']\n"
     ]
    }
   ],
   "source": [
    "for row in google_english:\n",
    "    if row[0]=='Facebook':\n",
    "        print(row)"
   ]
  },
  {
   "cell_type": "markdown",
   "metadata": {},
   "source": [
    "The difference here is that they have different number of reviews (4th column). We do not want to remove these repeated entries randomly, we want to keep the highest review number as the review rating will be more reliable for a larger number of reviews."
   ]
  },
  {
   "cell_type": "code",
   "execution_count": 22,
   "metadata": {
    "collapsed": false
   },
   "outputs": [
    {
     "name": "stdout",
     "output_type": "stream",
     "text": [
      "9616\n",
      "9616\n"
     ]
    }
   ],
   "source": [
    "max_reviews={}\n",
    "already_added = []\n",
    "google_clean = []\n",
    "\n",
    "for row in google_english:\n",
    "    name=row[0]\n",
    "    num_reviews=row[3]\n",
    "\n",
    "    if name not in max_reviews:\n",
    "        max_reviews[name]=num_reviews\n",
    "        \n",
    "    if (max_reviews[name] == num_reviews) and (name not in already_added):\n",
    "        google_clean.append(row)\n",
    "        already_added.append(name)\n",
    "\n",
    "    elif name in max_reviews and max_reviews[name]< num_reviews:\n",
    "        max_reviews[name]=num_reviews\n",
    "        \n",
    "print(len(max_reviews))\n",
    "print(len(google_clean))"
   ]
  },
  {
   "cell_type": "markdown",
   "metadata": {},
   "source": [
    "Now that we have the max number of reviews for each app, we can isolate the free apps.\n",
    "    \n"
   ]
  },
  {
   "cell_type": "code",
   "execution_count": 23,
   "metadata": {
    "collapsed": false
   },
   "outputs": [
    {
     "name": "stdout",
     "output_type": "stream",
     "text": [
      "8862\n",
      "3222\n"
     ]
    }
   ],
   "source": [
    "\n",
    "google_final = []\n",
    "apple_final = []\n",
    "\n",
    "for row in google_clean:\n",
    "    price = row[7]\n",
    "    if price == '0':\n",
    "        google_final.append(row)\n",
    "        \n",
    "for row in apple_english:\n",
    "    price = row[4]\n",
    "    if price == '0.0':\n",
    "        apple_final.append(row)\n",
    "        \n",
    "print(len(google_final))\n",
    "print(len(apple_final))"
   ]
  },
  {
   "cell_type": "markdown",
   "metadata": {},
   "source": [
    "# Most Common Apps Sorted by Category\n",
    "\n",
    "One way to find out what type of apps are most popular is to determine what apps dominate the app store. We can do this by creating a frequency table. For now, we will create a function to genererate a frequency table."
   ]
  },
  {
   "cell_type": "code",
   "execution_count": 24,
   "metadata": {
    "collapsed": false
   },
   "outputs": [
    {
     "name": "stdout",
     "output_type": "stream",
     "text": [
      "Google Play App Percentages\n",
      "\n",
      "\n",
      "FAMILY : 18.449559918754233\n",
      "GAME : 9.873617693522906\n",
      "TOOLS : 8.440532611148726\n",
      "BUSINESS : 4.5926427443015125\n",
      "LIFESTYLE : 3.9043105393816293\n",
      "PRODUCTIVITY : 3.8930264048747465\n",
      "FINANCE : 3.7011961182577298\n",
      "MEDICAL : 3.5206499661475967\n",
      "SPORTS : 3.39652448657188\n",
      "PERSONALIZATION : 3.3175355450236967\n",
      "COMMUNICATION : 3.238546603475513\n",
      "HEALTH_AND_FITNESS : 3.080568720379147\n",
      "PHOTOGRAPHY : 2.945159106296547\n",
      "NEWS_AND_MAGAZINES : 2.798465357707064\n",
      "SOCIAL : 2.663055743624464\n",
      "TRAVEL_AND_LOCAL : 2.335815842924848\n",
      "SHOPPING : 2.2455427668697814\n",
      "BOOKS_AND_REFERENCE : 2.143985556307831\n",
      "DATING : 1.8618821936357481\n",
      "VIDEO_PLAYERS : 1.782893252087565\n",
      "MAPS_AND_NAVIGATION : 1.399232678853532\n",
      "EDUCATION : 1.2863913337846988\n",
      "FOOD_AND_DRINK : 1.2412547957571656\n",
      "ENTERTAINMENT : 1.128413450688332\n",
      "LIBRARIES_AND_DEMO : 0.9365831640713158\n",
      "AUTO_AND_VEHICLES : 0.9252990295644324\n",
      "HOUSE_AND_HOME : 0.8350259535093659\n",
      "WEATHER : 0.8011735499887158\n",
      "EVENTS : 0.7109004739336493\n",
      "ART_AND_DESIGN : 0.6770480704129994\n",
      "PARENTING : 0.6544798013992327\n",
      "COMICS : 0.6206273978785828\n",
      "BEAUTY : 0.598059128864816\n",
      "\n",
      "\n",
      "Apple Store App Percentages\n",
      "\n",
      "\n",
      "Games : 58.16263190564867\n",
      "Entertainment : 7.883302296710118\n",
      "Photo & Video : 4.9658597144630665\n",
      "Education : 3.662321539416512\n",
      "Social Networking : 3.2898820608317814\n",
      "Shopping : 2.60707635009311\n",
      "Utilities : 2.5139664804469275\n",
      "Sports : 2.1415270018621975\n",
      "Music : 2.0484171322160147\n",
      "Health & Fitness : 2.0173805090006205\n",
      "Productivity : 1.7380509000620732\n",
      "Lifestyle : 1.5828677839851024\n",
      "News : 1.3345747982619491\n",
      "Travel : 1.2414649286157666\n",
      "Finance : 1.1173184357541899\n",
      "Weather : 0.8690254500310366\n",
      "Food & Drink : 0.8069522036002483\n",
      "Reference : 0.5586592178770949\n",
      "Business : 0.5276225946617008\n",
      "Book : 0.4345127250155183\n",
      "Navigation : 0.186219739292365\n",
      "Medical : 0.186219739292365\n",
      "Catalogs : 0.12414649286157665\n"
     ]
    }
   ],
   "source": [
    "\n",
    "def freq_table(data_set, index):\n",
    "    table = {}\n",
    "    count = 0\n",
    "    \n",
    "    for row in data_set:\n",
    "        count += 1\n",
    "        value = row[index]\n",
    "        if value in table:\n",
    "            table[value] += 1\n",
    "        else:\n",
    "            table[value] = 1\n",
    "    \n",
    "    table_percentages = {}\n",
    "    for key in table:\n",
    "        percentage = (table[key] / count) * 100\n",
    "        table_percentages[key] = percentage \n",
    "    \n",
    "    return table_percentages\n",
    "\n",
    "\n",
    "def display_table(data_set, index):\n",
    "    table = freq_table(data_set, index)\n",
    "    table_display = []\n",
    "    for key in table:\n",
    "        key_val = (table[key], key)\n",
    "        table_display.append(key_val)\n",
    "        \n",
    "    table_sorted = sorted(table_display, reverse = True)\n",
    "    for entry in table_sorted:\n",
    "        print(entry[1], ':', entry[0])\n",
    "print('Google Play App Percentages')\n",
    "print('\\n')\n",
    "display_table(google_final, 1)\n",
    "print('\\n')\n",
    "print('Apple Store App Percentages')\n",
    "print('\\n')\n",
    "display_table(apple_final, -5)"
   ]
  },
  {
   "cell_type": "markdown",
   "metadata": {},
   "source": [
    "For both apps, we see that the 'Games' category dominate the app stores, especially for the Apple Store. We can look into further detail about the apps that are in the 'Games' category."
   ]
  },
  {
   "cell_type": "code",
   "execution_count": 25,
   "metadata": {
    "collapsed": false
   },
   "outputs": [
    {
     "name": "stdout",
     "output_type": "stream",
     "text": [
      "Subway Surfers : 1,000,000,000+\n",
      "Candy Crush Saga : 500,000,000+\n",
      "Temple Run 2 : 500,000,000+\n",
      "Pou : 500,000,000+\n",
      "My Talking Tom : 500,000,000+\n"
     ]
    }
   ],
   "source": [
    "for app in google_final:\n",
    "    if app[1] == 'GAME' and (app[5]=='500,000,000+'\n",
    "                        or app[5]=='1,000,000,000+'):\n",
    "        print(app[0], ':', app[5])"
   ]
  },
  {
   "cell_type": "markdown",
   "metadata": {},
   "source": [
    "The likes of 'Subway Surfers', 'Candy Crush Saga' and 'Temple Run' have the highest installs in the app store. It may be worth considering creating an app like this where the user has infinite attempts at the game but also collecting rewards such as tokens that make the games addicting to play. We can also look at the total user ratings in the Apple Store."
   ]
  },
  {
   "cell_type": "code",
   "execution_count": 29,
   "metadata": {
    "collapsed": false
   },
   "outputs": [
    {
     "name": "stdout",
     "output_type": "stream",
     "text": [
      "Clash of Clans : 2130805\n",
      "Temple Run : 1724546\n",
      "Candy Crush Saga : 961794\n",
      "Angry Birds : 824451\n",
      "Subway Surfers : 706110\n",
      "Solitaire : 679055\n",
      "CSR Racing : 677247\n",
      "Crossy Road - Endless Arcade Hopper : 669079\n",
      "Injustice: Gods Among Us : 612532\n"
     ]
    }
   ],
   "source": [
    "for app in apple_final:\n",
    "    if app[-5] == 'Games' and float(app[5])>600000:\n",
    "        print(app[1], ':', app[5])"
   ]
  },
  {
   "cell_type": "markdown",
   "metadata": {},
   "source": [
    "The top 3 games in the Google Play store are also in the top 5 games in the Apple Store. We may also want to explore the family category in the Google Play store."
   ]
  },
  {
   "cell_type": "code",
   "execution_count": 30,
   "metadata": {
    "collapsed": false
   },
   "outputs": [
    {
     "name": "stdout",
     "output_type": "stream",
     "text": [
      "Baby Panda Care : 10,000,000+\n",
      "Toca Kitchen 2 : 50,000,000+\n",
      "PJ Masks: Moonlight Heroes : 10,000,000+\n",
      "No. Color - Color by Number, Number Coloring : 10,000,000+\n",
      "ABC Kids - Tracing & Phonics : 10,000,000+\n",
      "Barbie Magical Fashion : 10,000,000+\n",
      "Piano Kids - Music & Songs : 10,000,000+\n",
      "Farming Simulator 14 : 10,000,000+\n",
      "Hot Wheels: Race Off : 10,000,000+\n",
      "School of Dragons : 10,000,000+\n",
      "Cars: Lightning League : 10,000,000+\n",
      "LEGO® Juniors Create & Cruise : 50,000,000+\n",
      "Thomas & Friends: Go Go Thomas : 10,000,000+\n",
      "Plants vs. Zombies™ Heroes : 10,000,000+\n",
      "Ice Cream Jump : 10,000,000+\n",
      "Disney Magic Kingdoms: Build Your Own Magical Park : 10,000,000+\n",
      "Turbo FAST : 50,000,000+\n",
      "My Little Pony: Harmony Quest : 10,000,000+\n",
      "Equestria Girls : 10,000,000+\n",
      "Disney Crossy Road : 10,000,000+\n",
      "Supermarket – Game for Kids : 10,000,000+\n",
      "Kids Animals Jigsaw Puzzles 😄 : 10,000,000+\n",
      "Inside Out Thought Bubbles : 10,000,000+\n",
      "Frozen Free Fall : 50,000,000+\n",
      "Shopkins World! : 10,000,000+\n",
      "Masha and the Bear Child Games : 10,000,000+\n",
      "Word Search Games in english : 10,000,000+\n",
      "Kids Balloon Pop Game Free 🎈 : 10,000,000+\n",
      "Fun Kid Racing - Motocross : 10,000,000+\n",
      "Sweet Baby Girl - Dream House and Play Time : 10,000,000+\n",
      "COOKING MAMA Let's Cook! : 10,000,000+\n",
      "Fun Kid Racing : 10,000,000+\n",
      "Real Racing 3 : 10,000,000+\n",
      "aa : 50,000,000+\n",
      "Akinator : 50,000,000+\n",
      "Build a Bridge! : 10,000,000+\n",
      "The Tribez: Build a Village : 10,000,000+\n",
      "Photo Warp : 50,000,000+\n",
      "Gymnastics Superstar - Spin your way to gold! : 10,000,000+\n",
      "Block! Hexa Puzzle™ : 50,000,000+\n",
      "Block City Wars + skins export : 10,000,000+\n",
      "Bad Piggies : 50,000,000+\n",
      "Chuck E.'s Skate Universe : 10,000,000+\n",
      "Eternium : 10,000,000+\n",
      "Dumb Ways to Die 2: The Games : 50,000,000+\n",
      "Guns - Shot Sounds : 10,000,000+\n",
      "Cook Baked Lasagna : 10,000,000+\n",
      "Tom's Love Letters : 50,000,000+\n",
      "The Voice, sing and connect : 10,000,000+\n",
      "SpongeBob Diner Dash : 50,000,000+\n",
      "My Teacher - Classroom Play : 10,000,000+\n",
      "Lie Detector Test Prank : 10,000,000+\n",
      "Xbox : 10,000,000+\n",
      "FaceQ : 10,000,000+\n",
      "Five Nights at Freddy's 2 Demo : 50,000,000+\n",
      "U-Dictionary: Best English Learning Dictionary : 10,000,000+\n",
      "V LIVE - Star Live App : 10,000,000+\n",
      "Vimeo : 10,000,000+\n",
      "Xray Scanner Prank : 10,000,000+\n",
      "Boomerang Make and Race : 10,000,000+\n",
      "Vegas Crime Simulator : 50,000,000+\n",
      "PewDiePie's Tuber Simulator : 10,000,000+\n",
      "Last Empire - War Z: Strategy : 50,000,000+\n",
      "Angry Birds Blast : 10,000,000+\n",
      "Angry Birds Evolution : 10,000,000+\n",
      "Angry Birds POP Bubble Shooter : 10,000,000+\n",
      "Angry Birds Epic RPG : 10,000,000+\n",
      "iFunny :) : 10,000,000+\n",
      "9GAG: Funny Gifs, Pics, Memes & Videos for IGTV : 10,000,000+\n",
      "King of Avalon: Dragon Warfare : 10,000,000+\n",
      "Virtual Families 2 : 10,000,000+\n",
      "My Emma :) : 10,000,000+\n",
      "My Horse : 10,000,000+\n",
      "My Boo - Your Virtual Pet Game : 10,000,000+\n",
      "Heroes of Order & Chaos : 10,000,000+\n",
      "Bubbu – My Virtual Pet : 10,000,000+\n",
      "Weaphones™ Gun Sim Free Vol 1 : 10,000,000+\n",
      "Order & Chaos 2: 3D MMO RPG : 10,000,000+\n",
      "Dungeon Hunter 5 – Action RPG : 10,000,000+\n",
      "Ninja Turtles: Legends : 10,000,000+\n",
      "Maleficent Free Fall : 10,000,000+\n",
      "DIRECTV : 10,000,000+\n",
      "Avakin Life - 3D virtual world : 10,000,000+\n",
      "Gangster Town: Vice District : 10,000,000+\n",
      "Millionaire Quiz Free: Be Rich : 10,000,000+\n",
      "Hair Salon - Fun Games : 50,000,000+\n",
      "Star Girl - Fashion, Makeup & Dress Up : 10,000,000+\n",
      "The Sims™ Mobile : 10,000,000+\n",
      "Learn English Vocabulary - 6,000 Words : 10,000,000+\n",
      "Little Big City 2 : 10,000,000+\n",
      "Real DJ Simulator : 10,000,000+\n",
      "Boom Beach : 50,000,000+\n",
      "Township : 50,000,000+\n",
      "Blood Pressure Info : 10,000,000+\n",
      "Vlogger Go Viral - Tuber Game : 10,000,000+\n",
      "Train driving simulator : 10,000,000+\n",
      "Sandbox - Color by Number Coloring Pages : 10,000,000+\n",
      "SimCity BuildIt : 50,000,000+\n",
      "Can Knockdown : 10,000,000+\n",
      "Clash of Kings : The King Of Fighters version : 50,000,000+\n",
      "Battle of Zombies: Clans War : 10,000,000+\n",
      "Card Wars Kingdom : 10,000,000+\n",
      "Free Fur All – We Bare Bears : 10,000,000+\n",
      "Ben 10: Alien Experience : 10,000,000+\n",
      "Planet of Cubes Survival Craft : 10,000,000+\n",
      "MadLipz : 10,000,000+\n",
      "Escaping the Prison : 10,000,000+\n",
      "Glam Doll Salon - Chic Fashion : 10,000,000+\n",
      "DC Legends: Battle for Justice : 10,000,000+\n",
      "LEGO® DC Mighty Micros : 10,000,000+\n",
      "MARVEL Future Fight : 50,000,000+\n",
      "Coloring Book for Me & Mandala : 10,000,000+\n",
      "DJ Electro Mix Pad : 10,000,000+\n",
      "Dinosaur War : 10,000,000+\n",
      "Meme Generator Free : 10,000,000+\n",
      "Cooking in the Kitchen : 10,000,000+\n",
      "Euro Truck Driver (Simulator) : 10,000,000+\n",
      "Doctor Kids : 10,000,000+\n",
      "MegaN64 (N64 Emulator) : 10,000,000+\n",
      "Star Chart : 10,000,000+\n",
      "Madden NFL Football : 10,000,000+\n",
      "The Simpsons™: Tapped Out : 10,000,000+\n",
      "Plants vs. Zombies™ 2 : 10,000,000+\n",
      "Star Wars™: Galaxy of Heroes : 10,000,000+\n",
      "TETRIS : 10,000,000+\n",
      "Bejeweled Blitz : 10,000,000+\n",
      "MY LITTLE PONY: Magic Princess : 50,000,000+\n",
      "Crazy Doctor : 10,000,000+\n",
      "Voice Changer : 10,000,000+\n",
      "100 Doors of Revenge : 10,000,000+\n",
      "Lie Detector Prank : 10,000,000+\n",
      "Surprise Eggs : 10,000,000+\n",
      "Bad Piggies HD : 10,000,000+\n",
      "Airplane Pilot Car Transporter : 10,000,000+\n",
      "Extreme Motorbike Jump 3D : 10,000,000+\n",
      "Hello English: Learn English : 10,000,000+\n",
      "Masha and Bear: Cooking Dash : 10,000,000+\n",
      "Masha and the Bear: House Cleaning Games for Girls : 10,000,000+\n",
      "Masha and the Bear. Educational Games : 10,000,000+\n",
      "Operate Now: Hospital : 10,000,000+\n",
      "Superhero Doctor 2 -ER Surgery : 10,000,000+\n",
      "Scanner Radio - Fire and Police Scanner : 10,000,000+\n",
      "Empires and Allies : 10,000,000+\n",
      "Pocket Mortys : 10,000,000+\n",
      "Voice changer with effects : 50,000,000+\n",
      "Design Home : 10,000,000+\n",
      "Mobile Strike : 50,000,000+\n",
      "Pregnant Emergency Surgery : 10,000,000+\n",
      "TRANSFORMERS: Earth Wars : 10,000,000+\n",
      "OMG Gross Zit - Date Nightmare : 10,000,000+\n",
      "Block Puzzle - Wood Legend : 10,000,000+\n",
      "Fart sound pranks : 50,000,000+\n",
      "Police Car Driving Sim : 10,000,000+\n",
      "Talking Tom Bubble Shooter : 50,000,000+\n",
      "Motocross Beach Jumping 3D : 10,000,000+\n",
      "Hair saloon - Spa salon : 10,000,000+\n",
      "Flight Simulator: Fly Plane 3D : 50,000,000+\n",
      "Zombie Defense : 10,000,000+\n"
     ]
    }
   ],
   "source": [
    "for app in google_final:\n",
    "    if app[1] == 'FAMILY' and (app[5]=='10,000,000+'\n",
    "                        or app[5]=='50,000,000+'):\n",
    "        print(app[0], ':', app[5])"
   ]
  },
  {
   "cell_type": "markdown",
   "metadata": {},
   "source": [
    "Looking at the names of the apps in the 'FAMILY' section, the majority of them are aimed at children. We notice that apps that are based on puzzles, learning or animals are popular. This gives us an idea of how we can incorporate the ideas discussed about what makes the games successful and what makes the family apps successful.\n",
    "\n",
    "# Conclusion \n",
    "\n",
    "In this project, we analyzed data about the Apple App Store and Google Play mobile apps with the goal of recommending an app profile that can be profitable for both markets.\n",
    "\n",
    "We concluded that making a family-type game on the app stores would be most profitable. By incorporating a token based system or daily rewards system on a learning/puzzle game, the app will become a fun and addictive way for children to learn creatively. This will drive the number of installs and reviews and hence create a profitable app on the App Store and Google Play Markets."
   ]
  }
 ],
 "metadata": {
  "kernelspec": {
   "display_name": "Python 3",
   "language": "python",
   "name": "python3"
  },
  "language_info": {
   "codemirror_mode": {
    "name": "ipython",
    "version": 3
   },
   "file_extension": ".py",
   "mimetype": "text/x-python",
   "name": "python",
   "nbconvert_exporter": "python",
   "pygments_lexer": "ipython3",
   "version": "3.4.3"
  }
 },
 "nbformat": 4,
 "nbformat_minor": 2
}
